{
 "cells": [
  {
   "cell_type": "code",
   "execution_count": 1,
   "id": "3d0e58ea",
   "metadata": {},
   "outputs": [],
   "source": [
    "import requests\n",
    "import datetime\n"
   ]
  },
  {
   "cell_type": "code",
   "execution_count": 2,
   "id": "2a7eb27a",
   "metadata": {},
   "outputs": [],
   "source": [
    "nav_url = \"https://menus.tufts.edu/FoodPro%203.1.NET/\"\n"
   ]
  },
  {
   "cell_type": "code",
   "execution_count": 3,
   "id": "763d3f14",
   "metadata": {},
   "outputs": [],
   "source": [
    "nav_data = requests.get(nav_url + \"location.aspx\")"
   ]
  },
  {
   "cell_type": "code",
   "execution_count": 4,
   "id": "5a177b14",
   "metadata": {},
   "outputs": [],
   "source": [
    "text = nav_data.text\n",
    "d = nav_data.text.find(\"Dewick-MacPhie Dining Center\")\n",
    "sub = \"\"\n",
    "for i in range(d):\n",
    "    if (text[d-i] == \"<\"):\n",
    "        sub = text[d - i:d]\n",
    "        break\n",
    "d_link = sub[sub.find(\"'\") + 1 : sub.find(\"'\",sub.find(\"'\") + 1)]\n",
    "#print(sub)\n",
    "#print(d_link)"
   ]
  },
  {
   "cell_type": "code",
   "execution_count": 5,
   "id": "f2a4a977",
   "metadata": {},
   "outputs": [],
   "source": [
    "dewick = requests.get(nav_url + d_link)"
   ]
  },
  {
   "cell_type": "code",
   "execution_count": 6,
   "id": "e39cf2b2",
   "metadata": {},
   "outputs": [],
   "source": [
    "def items_in_section(text, section):\n",
    "    items = []\n",
    "    text = text[text.find(section) : text.find(\"<div class=\\\"shortmenucats\\\">\", text.find(section))]\n",
    "    #print(text.count(\"<div class=\\'shortmenurecipes\\'>\"))\n",
    "    #print(text)\n",
    "    for i in range(text.count(\"<div class=\\'shortmenurecipes\\'>\")):\n",
    "        items.append(text[text.find(\"<span style=\\'color: #000000\\'>\") + len(\"<span style=\\'color: #000000\\'>\"): text.find(\"&nbsp\")])\n",
    "        text = text[text.find(\"<span style=\\'color: #000000\\'>\", text.find(\"&nbsp\")) : ]\n",
    "    return items\n",
    "    \n",
    "def find_menu_items(url, b = True, l = True, d = True):\n",
    "    r = requests.get(url)\n",
    "    text = r.text\n",
    "    bmeat = \"\\t\" + items_in_section(text, \"-- BREAKFAST MEATS --\")[0]\n",
    "    lunch = items_in_section(text, \"-- LUNCH ENTREE --\")\n",
    "    dinner = items_in_section(text, \"-- DINNER ENTREES --\")\n",
    "    date = text[text.find(\"Menus for \") + len(\"Menus for \") : text.find(\"<\", text.find(\"Menus for \"))]\n",
    "    print(\"\\x1b[32m\" + date + \"\\x1b[0m\")\n",
    "    meat_warning = bmeat == \"\\tCorned Beef Hash\" or bmeat == \"\\tSliced Oval Ham\"\n",
    "    if b:\n",
    "        print(\"Breakfast Meat\")\n",
    "        print((\"\\x1b[31m\" if meat_warning else \"\")  + bmeat + (\"\\x1b[0m\" if meat_warning else \"\"))\n",
    "    if l:\n",
    "        print(\"Lunch Entrees\")\n",
    "        for k in lunch:\n",
    "            print(\"\\t\" + k)\n",
    "    if d:\n",
    "        print(\"Dinner Entrees\")\n",
    "        for k in dinner:\n",
    "            print(\"\\t\" + k)"
   ]
  },
  {
   "cell_type": "code",
   "execution_count": 7,
   "id": "b4c2f6ed",
   "metadata": {},
   "outputs": [
    {
     "name": "stdout",
     "output_type": "stream",
     "text": [
      "\u001b[32mWednesday, September 28, 2022\u001b[0m\n",
      "Breakfast Meat\n",
      "\tPork Sausage Patties\n",
      "\u001b[32mThursday, September 29, 2022\u001b[0m\n",
      "Breakfast Meat\n",
      "\u001b[31m\tSliced Oval Ham\u001b[0m\n",
      "\u001b[32mFriday, September 30, 2022\u001b[0m\n",
      "Breakfast Meat\n",
      "\tChicken Sausage Patty\n",
      "\u001b[32mSaturday, October 1, 2022\u001b[0m\n",
      "Breakfast Meat\n",
      "\tCrisp Bacon\n",
      "\u001b[32mSunday, October 2, 2022\u001b[0m\n",
      "Breakfast Meat\n",
      "\tPork Sausage Patties\n",
      "\u001b[32mMonday, October 3, 2022\u001b[0m\n",
      "Breakfast Meat\n",
      "\tChicken Sausage Patty\n",
      "\u001b[32mTuesday, October 4, 2022\u001b[0m\n",
      "Breakfast Meat\n",
      "\u001b[31m\tCorned Beef Hash\u001b[0m\n",
      "\u001b[32mWednesday, October 5, 2022\u001b[0m\n",
      "Breakfast Meat\n",
      "\tSausage Links\n",
      "\u001b[32mThursday, October 6, 2022\u001b[0m\n",
      "Breakfast Meat\n",
      "\tChicken Sausage Patty\n",
      "\u001b[32mFriday, October 7, 2022\u001b[0m\n",
      "Breakfast Meat\n",
      "\u001b[31m\tSliced Oval Ham\u001b[0m\n",
      "\u001b[32mSaturday, October 8, 2022\u001b[0m\n",
      "Breakfast Meat\n",
      "\tSausage Links\n",
      "\u001b[32mSunday, October 9, 2022\u001b[0m\n",
      "Breakfast Meat\n",
      "\tSausage Links\n",
      "\u001b[32mMonday, October 10, 2022\u001b[0m\n",
      "Breakfast Meat\n",
      "\tCrisp Bacon\n",
      "\u001b[32mTuesday, October 11, 2022\u001b[0m\n",
      "Breakfast Meat\n",
      "\tChicken Sausage Patty\n",
      "\u001b[32mWednesday, October 12, 2022\u001b[0m\n",
      "Breakfast Meat\n",
      "\u001b[31m\tSliced Oval Ham\u001b[0m\n",
      "\u001b[32mThursday, October 13, 2022\u001b[0m\n",
      "Breakfast Meat\n",
      "\tChicken Sausage Patty\n",
      "\u001b[32mFriday, October 14, 2022\u001b[0m\n",
      "Breakfast Meat\n",
      "\tCrisp Bacon\n",
      "\u001b[32mSaturday, October 15, 2022\u001b[0m\n",
      "Breakfast Meat\n",
      "\tSausage Links\n",
      "\u001b[32mSunday, October 16, 2022\u001b[0m\n",
      "Breakfast Meat\n",
      "\tChicken Sausage Patty\n",
      "\u001b[32mMonday, October 17, 2022\u001b[0m\n",
      "Breakfast Meat\n",
      "\tCrisp Bacon\n",
      "\u001b[32mTuesday, October 18, 2022\u001b[0m\n",
      "Breakfast Meat\n",
      "\tSausage Links\n"
     ]
    }
   ],
   "source": [
    "text = dewick.text\n",
    "dates = text[text.find(\"<span class=\\'dateselections\\'>\") : text.find(\"<table class=\\'datelegendcontainer\\'>\")]\n",
    "while(dates.find(\"<span class=\\'dateselections\\'>\") != -1):\n",
    "    start = dates.find(\"<span class=\\'dateselections\\'>\") + len(\"<span class=\\'dateselections\\'>\")\n",
    "    dates = dates[start :]\n",
    "    url = dates[dates.find(\"\\\"\") + 1 : dates.find(\"\\\"\", dates.find(\"\\\"\") + 1)]\n",
    "    #print(url)\n",
    "    dates = dates[dates.find(\"</a>\") :]\n",
    "    find_menu_items(nav_url + url, True, False, False)\n",
    "    "
   ]
  },
  {
   "cell_type": "code",
   "execution_count": 19,
   "id": "7db5ee30",
   "metadata": {},
   "outputs": [
    {
     "name": "stdout",
     "output_type": "stream",
     "text": [
      "2022-09-29 21:49:42.587443-05:00\n",
      "\u001b[32mThursday, September 29, 2022\u001b[0m\n",
      "Breakfast Meat\n",
      "\u001b[31m\tSliced Oval Ham\u001b[0m\n",
      "Lunch Entrees\n",
      "\tBeef & Broccoli\n",
      "\tGarden Vegetable Pattie (V)\n",
      "\tGinger Soy Chicken Wings\n",
      "\tSpinach Tomato Casserole (V)\n",
      "Dinner Entrees\n",
      "\tBaked Butternut Macaroni & Cheese (V)\n",
      "\tChermoula Chicken Thighs\n",
      "\tHake Laksa\n",
      "\tTomato Alfredo w/Pesto Primavera Sauce (V)\n",
      "\tVG Marinara Sauce\n",
      "\tVG Whole Wheat Penne\n"
     ]
    }
   ],
   "source": [
    "tz = datetime.timezone(datetime.timedelta(hours=-5))\n",
    "date = datetime.datetime.now(tz)\n",
    "print(date)\n",
    "m = date.strftime(\"%m\")\n",
    "if int(date.strftime(\"%m\")) < 10:\n",
    "    m = m[1]\n",
    "#print(date)\n",
    "find_menu_items(nav_url + \"shortmenu.aspx?sName=TUFTS+DINING&locationNum=11&locationName=Dewick-MacPhie+Dining+Center&naFlag=1&WeeksMenus=This+Week%27s+Menus&myaction=read&dtdate=\"+ m +\"%2f\" + date.strftime(\"%d\") + \"%2f\" + date.strftime(\"%Y\"), True, True, True)"
   ]
  },
  {
   "cell_type": "code",
   "execution_count": null,
   "id": "e64797d7",
   "metadata": {},
   "outputs": [],
   "source": []
  }
 ],
 "metadata": {
  "kernelspec": {
   "display_name": "Python 3 (ipykernel)",
   "language": "python",
   "name": "python3"
  },
  "language_info": {
   "codemirror_mode": {
    "name": "ipython",
    "version": 3
   },
   "file_extension": ".py",
   "mimetype": "text/x-python",
   "name": "python",
   "nbconvert_exporter": "python",
   "pygments_lexer": "ipython3",
   "version": "3.10.7"
  }
 },
 "nbformat": 4,
 "nbformat_minor": 5
}
